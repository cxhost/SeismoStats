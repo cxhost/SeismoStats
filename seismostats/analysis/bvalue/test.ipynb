{
 "cells": [
  {
   "cell_type": "code",
   "execution_count": 2,
   "metadata": {},
   "outputs": [],
   "source": [
    "import numpy as np\n",
    "from seismostats.analysis.bvalue import BPositiveBValueEstimator, BMorePositiveBValueEstimator, UtsuBValueEstimator, ClassicBValueEstimator\n",
    "from seismostats.analysis.bvalue.utils import shi_bolt_confidence"
   ]
  },
  {
   "cell_type": "code",
   "execution_count": 59,
   "metadata": {},
   "outputs": [
    {
     "name": "stdout",
     "output_type": "stream",
     "text": [
      "1.3222192947339193 1.390935107103379 1.472280706180855\n",
      "0.8511027303988057 0.9409903567422798 0.9017663034908802 0.8483892204621659\n"
     ]
    }
   ],
   "source": [
    "from seismostats.analysis.avalue import ClassicAValueEstimator, APositiveAValueEstimator, AMorePositiveAValueEstimator\n",
    "from seismostats.analysis.bvalue import ClassicBValueEstimator, UtsuBValueEstimator, BMorePositiveBValueEstimator, BPositiveBValueEstimator\n",
    "\n",
    "\n",
    "my_a_estimator = ClassicAValueEstimator()\n",
    "my_apositive_estimator = APositiveAValueEstimator()\n",
    "my_amorepositive_estimator = AMorePositiveAValueEstimator()\n",
    "\n",
    "my_bclassic_estimator = ClassicBValueEstimator()\n",
    "my_bmorepositive_estimator = BMorePositiveBValueEstimator()\n",
    "my_bpositive_estimator = BPositiveBValueEstimator()\n",
    "my_utsu_estimator = UtsuBValueEstimator()\n",
    "\n",
    "my_magnitudes = [1.3, 0.6, 1. , 0.6, 1.1, 0.4, 3.5, 1.1, 0.7, 0.8, 1.1, 1.2, 1.6,\n",
    "       0.5, 1.3, 1.5, 1.1, 0.8, 1.4, 2. , 1.1, 1. , 1.5, 1.3, 1.3, 0.9,\n",
    "       1.4, 1.1, 1.6, 1.1, 1.1, 1. , 0.8, 0.8, 1.1, 0.7, 1.4, 2.4, 1.5,\n",
    "       0.6, 0.3, 1.1, 1.1, 1.1, 1.1, 0.6, 1.3, 0.9, 1.6, 1.1, 1.3, 1.4,\n",
    "       1.9, 1.3, 2.5, 1.9, 0.9, 0.9, 0.9, 1.2, 1.1, 0.7, 1.2, 1.2, 1.5,\n",
    "       1.2, 1.3, 1.3, 0.9, 0.8, 1. , 1.7, 1.1, 2.3, 0.7, 1.2, 0.9, 1.3,\n",
    "       1. , 0.6, 3.6, 1.3, 0.9, 0.9, 1.1, 1.2, 1.9, 0.3, 1.1, 1.2, 1.7,\n",
    "       1.6, 2.3, 0.6, 1.6, 1.2, 1.6, 0.9, 0.8, 1.9, 1.4, 0.7, 0.5, 1. ,\n",
    "       1.2, 0.8, 1.8, 1.1, 0.9, 0.8, 1.4, 1. , 1.4, 0.8, 2.2, 1.8, 0.9,\n",
    "       1. , 0.7, 1.1, 1. , 1.1, 1.6, 1.3, 1.3, 3.1, 1. , 0.5, 1.1, 1.2,\n",
    "       1.1, 1.8, 1.5, 2.1, 1.6, 1. , 1.8, 1.3, 1.5, 1.2, 0.8, 1.1, 1. ,\n",
    "       1.1, 0.8, 0.5, 0.7, 1.1, 1.1, 1.7, 1.1, 1.5, 1.2, 2.9, 1.2, 0.7,\n",
    "       1.3, 1.8, 1.1, 1.2, 1.4, 1. , 1.3, 1.5, 1. , 0.9, 0.8, 0.8, 1.5,\n",
    "       0.6, 0.9, 1. , 1.4, 1.4, 1.7, 2.4, 1.6, 1.4, 1.8, 0.9, 1.2, 0.9,\n",
    "       1. , 1. , 0.8, 0.9, 1.3, 1.1, 1.1, 1. , 0.7, 1.8, 1. , 1.6, 1. ,\n",
    "       1.5, 1.6, 0.9, 0.8, 1.5, 0.9, 1. , 0.6, 1.5, 1.2, 0.3, 1.4, 1.4,\n",
    "       1.1, 1.2, 1.4, 1.6, 1. , 0.7, 1.9, 1.2, 1.4, 1.3, 0.9, 1.1, 0.8,\n",
    "       0.4, 2.2, 1.6, 1.9, 1.3, 1.2, 2.5, 1.1, 1.4, 2.7, 0.8, 1.3, 0.9,\n",
    "       0.8, 1.1, 1.1, 1.6, 0.9, 0.7, 2.2, 2. , 2. , 0.6, 1.6, 1.6, 0.6,\n",
    "       1.2, 2.5, 2. , 0.8, 0.9, 2.3, 1.5, 0.9, 0.4, 1. , 0.6, 1.3, 1.9,\n",
    "       0.7, 1.1, 1.4, 1.6, 1.2, 1.2, 0.5, 1.7, 1.5, 1.3, 1.4, 1.5, 1.2,\n",
    "       1.3, 1.2, 0.8, 0.9, 0.8, 0.6, 1.1, 1.1, 1.3, 1.5, 1.1, 1. , 1.7,\n",
    "       0.6, 1.2, 0.7, 1.1, 1.5, 0.7, 1. , 0.9, 1.5, 1.1, 1.4, 1.6, 1.5,\n",
    "       1.6]\n",
    "\n",
    "mc = 2.0\n",
    "\n",
    "my_a_value = my_a_estimator.calculate(my_magnitudes, mc, 0.1)\n",
    "my_apositive_value = my_apositive_estimator.calculate(my_magnitudes, mc, 0.1, np.arange(len(my_magnitudes)))\n",
    "my_amorepositive_value = my_amorepositive_estimator.calculate(my_magnitudes, mc, 0.1, np.arange(len(my_magnitudes)), 1.0)\n",
    "\n",
    "my_b_value = my_bclassic_estimator.calculate(my_magnitudes, mc, 0.1)\n",
    "my_bmorepositive_value = my_bmorepositive_estimator.calculate(my_magnitudes, mc, 0.1)\n",
    "my_bpositive_value = my_bpositive_estimator.calculate(my_magnitudes, mc, 0.1)\n",
    "my_utsu_value = my_utsu_estimator.calculate(my_magnitudes, mc, 0.1)\n",
    "\n",
    "print(my_a_value, my_apositive_value, my_amorepositive_value)\n",
    "print(my_b_value, my_bmorepositive_value, my_bpositive_value, my_utsu_value)"
   ]
  },
  {
   "cell_type": "code",
   "execution_count": 61,
   "metadata": {},
   "outputs": [
    {
     "data": {
      "text/plain": [
       "(array([3.5, 2. , 2.4, 2.5, 2.3, 3.6, 2.3, 2.2, 3.1, 2.1, 2.9, 2.4, 2.2,\n",
       "        2.5, 2.7, 2.2, 2. , 2. , 2.5, 2. , 2.3]),\n",
       " array([2.4, 2.5, 3.6, 3.1, 2.9, 2.5, 2.7, 2.5, 2.3]),\n",
       " array([3.6, 2.4, 2.5, 3.6, 3.6, 3.1, 3.1, 2.9, 2.5, 2.5, 2.7, 2.5, 2.5,\n",
       "        2.5, 2.3]))"
      ]
     },
     "execution_count": 61,
     "metadata": {},
     "output_type": "execute_result"
    }
   ],
   "source": [
    "my_a_estimator.magnitudes, my_apositive_estimator.magnitudes, my_amorepositive_estimator.magnitudes"
   ]
  },
  {
   "cell_type": "code",
   "execution_count": 68,
   "metadata": {},
   "outputs": [
    {
     "data": {
      "text/plain": [
       "0.6309794988610479"
      ]
     },
     "execution_count": 68,
     "metadata": {},
     "output_type": "execute_result"
    }
   ],
   "source": [
    "(1329 - 1052) / 439"
   ]
  },
  {
   "cell_type": "code",
   "execution_count": 45,
   "metadata": {},
   "outputs": [
    {
     "data": {
      "text/plain": [
       "(array([3.5, 2. , 2.4, 2.5, 2.3, 3.6, 2.3, 2.2, 3.1, 2.1, 2.9, 2.4, 2.2,\n",
       "        2.5, 2.7, 2.2, 2. , 2. , 2.5, 2. , 2.3]),\n",
       " array([0.4, 0.1, 1.3, 0.9, 0.8, 0.3, 0.2, 0.5, 0.3]),\n",
       " array([0.1, 0.4, 0.1, 1.1, 1.3, 0.8, 0.9, 0.8, 0.1, 0.3, 0.2, 0.3, 0.5,\n",
       "        0.5, 0.3]),\n",
       " array([3.5, 2. , 2.4, 2.5, 2.3, 3.6, 2.3, 2.2, 3.1, 2.1, 2.9, 2.4, 2.2,\n",
       "        2.5, 2.7, 2.2, 2. , 2. , 2.5, 2. , 2.3]))"
      ]
     },
     "execution_count": 45,
     "metadata": {},
     "output_type": "execute_result"
    }
   ],
   "source": [
    "my_bclassic_estimator.magnitudes, my_bpositive_estimator.magnitudes, my_bmorepositive_estimator.magnitudes, my_utsu_estimator.magnitudes"
   ]
  },
  {
   "cell_type": "code",
   "execution_count": 47,
   "metadata": {},
   "outputs": [
    {
     "ename": "TypeError",
     "evalue": "APositiveAValueEstimator.calculate() missing 1 required positional argument: 'times'",
     "output_type": "error",
     "traceback": [
      "\u001b[0;31m---------------------------------------------------------------------------\u001b[0m",
      "\u001b[0;31mTypeError\u001b[0m                                 Traceback (most recent call last)",
      "\u001b[1;32m/Users/leila/git_repos/github/SeismoStats/seismostats/analysis/bvalue/test.ipynb Cell 4\u001b[0m line \u001b[0;36m3\n\u001b[1;32m     <a href='vscode-notebook-cell:/Users/leila/git_repos/github/SeismoStats/seismostats/analysis/bvalue/test.ipynb#X11sZmlsZQ%3D%3D?line=12'>13</a>\u001b[0m my_magnitudes \u001b[39m=\u001b[39m [\u001b[39m1.3\u001b[39m, \u001b[39m0.6\u001b[39m, \u001b[39m1.\u001b[39m , \u001b[39m0.6\u001b[39m, \u001b[39m1.1\u001b[39m, \u001b[39m0.4\u001b[39m, \u001b[39m3.5\u001b[39m, \u001b[39m1.1\u001b[39m, \u001b[39m0.7\u001b[39m, \u001b[39m0.8\u001b[39m, \u001b[39m1.1\u001b[39m, \u001b[39m1.2\u001b[39m, \u001b[39m1.6\u001b[39m,\n\u001b[1;32m     <a href='vscode-notebook-cell:/Users/leila/git_repos/github/SeismoStats/seismostats/analysis/bvalue/test.ipynb#X11sZmlsZQ%3D%3D?line=13'>14</a>\u001b[0m        \u001b[39m0.5\u001b[39m, \u001b[39m1.3\u001b[39m, \u001b[39m1.5\u001b[39m, \u001b[39m1.1\u001b[39m, \u001b[39m0.8\u001b[39m, \u001b[39m1.4\u001b[39m, \u001b[39m2.\u001b[39m , \u001b[39m1.1\u001b[39m, \u001b[39m1.\u001b[39m , \u001b[39m1.5\u001b[39m, \u001b[39m1.3\u001b[39m, \u001b[39m1.3\u001b[39m, \u001b[39m0.9\u001b[39m,\n\u001b[1;32m     <a href='vscode-notebook-cell:/Users/leila/git_repos/github/SeismoStats/seismostats/analysis/bvalue/test.ipynb#X11sZmlsZQ%3D%3D?line=14'>15</a>\u001b[0m        \u001b[39m1.4\u001b[39m, \u001b[39m1.1\u001b[39m, \u001b[39m1.6\u001b[39m, \u001b[39m1.1\u001b[39m, \u001b[39m1.1\u001b[39m, \u001b[39m1.\u001b[39m , \u001b[39m0.8\u001b[39m, \u001b[39m0.8\u001b[39m, \u001b[39m1.1\u001b[39m, \u001b[39m0.7\u001b[39m, \u001b[39m1.4\u001b[39m, \u001b[39m2.4\u001b[39m, \u001b[39m1.5\u001b[39m,\n\u001b[0;32m   (...)\u001b[0m\n\u001b[1;32m     <a href='vscode-notebook-cell:/Users/leila/git_repos/github/SeismoStats/seismostats/analysis/bvalue/test.ipynb#X11sZmlsZQ%3D%3D?line=34'>35</a>\u001b[0m        \u001b[39m0.6\u001b[39m, \u001b[39m1.2\u001b[39m, \u001b[39m0.7\u001b[39m, \u001b[39m1.1\u001b[39m, \u001b[39m1.5\u001b[39m, \u001b[39m0.7\u001b[39m, \u001b[39m1.\u001b[39m , \u001b[39m0.9\u001b[39m, \u001b[39m1.5\u001b[39m, \u001b[39m1.1\u001b[39m, \u001b[39m1.4\u001b[39m, \u001b[39m1.6\u001b[39m, \u001b[39m1.5\u001b[39m,\n\u001b[1;32m     <a href='vscode-notebook-cell:/Users/leila/git_repos/github/SeismoStats/seismostats/analysis/bvalue/test.ipynb#X11sZmlsZQ%3D%3D?line=35'>36</a>\u001b[0m        \u001b[39m1.6\u001b[39m]\n\u001b[1;32m     <a href='vscode-notebook-cell:/Users/leila/git_repos/github/SeismoStats/seismostats/analysis/bvalue/test.ipynb#X11sZmlsZQ%3D%3D?line=37'>38</a>\u001b[0m my_a_value \u001b[39m=\u001b[39m my_estimator\u001b[39m.\u001b[39mcalculate(my_magnitudes, \u001b[39m1.0\u001b[39m, \u001b[39m0.1\u001b[39m)\n\u001b[0;32m---> <a href='vscode-notebook-cell:/Users/leila/git_repos/github/SeismoStats/seismostats/analysis/bvalue/test.ipynb#X11sZmlsZQ%3D%3D?line=38'>39</a>\u001b[0m my_apositive_value \u001b[39m=\u001b[39m my_apositive_estimator\u001b[39m.\u001b[39;49mcalculate(my_magnitudes, \u001b[39m1.0\u001b[39;49m, \u001b[39m0.1\u001b[39;49m)\n\u001b[1;32m     <a href='vscode-notebook-cell:/Users/leila/git_repos/github/SeismoStats/seismostats/analysis/bvalue/test.ipynb#X11sZmlsZQ%3D%3D?line=39'>40</a>\u001b[0m my_amorepositive_value \u001b[39m=\u001b[39m my_amorepositive_estimator\u001b[39m.\u001b[39mcalculate(my_magnitudes, \u001b[39m1.0\u001b[39m, \u001b[39m0.1\u001b[39m)\n\u001b[1;32m     <a href='vscode-notebook-cell:/Users/leila/git_repos/github/SeismoStats/seismostats/analysis/bvalue/test.ipynb#X11sZmlsZQ%3D%3D?line=41'>42</a>\u001b[0m my_b_value \u001b[39m=\u001b[39m my_bclassic_estimator\u001b[39m.\u001b[39mcalculate(my_magnitudes, \u001b[39m1.0\u001b[39m, \u001b[39m0.1\u001b[39m)\n",
      "\u001b[0;31mTypeError\u001b[0m: APositiveAValueEstimator.calculate() missing 1 required positional argument: 'times'"
     ]
    }
   ],
   "source": [
    "from seismostats.analysis.avalue import ClassicAValueEstimator, APositiveAValueEstimator, AMorePositiveAValueEstimator\n",
    "from seismostats.analysis.bvalue import ClassicBValueEstimator, UtsuBValueEstimator, BMorePositiveBValueEstimator, BPositiveBValueEstimator\n",
    "\n",
    "my_estimator = ClassicAValueEstimator()\n",
    "my_apositive_estimator = APositiveAValueEstimator()\n",
    "my_amorepositive_estimator = AMorePositiveAValueEstimator()\n",
    "\n",
    "my_bclassic_estimator = ClassicBValueEstimator()\n",
    "my_bmorepositive_estimator = BMorePositiveBValueEstimator()\n",
    "my_bpositive_estimator = BPositiveBValueEstimator()\n",
    "my_utsu_estimator = UtsuBValueEstimator()\n",
    "\n",
    "my_magnitudes = [1.3, 0.6, 1. , 0.6, 1.1, 0.4, 3.5, 1.1, 0.7, 0.8, 1.1, 1.2, 1.6,\n",
    "       0.5, 1.3, 1.5, 1.1, 0.8, 1.4, 2. , 1.1, 1. , 1.5, 1.3, 1.3, 0.9,\n",
    "       1.4, 1.1, 1.6, 1.1, 1.1, 1. , 0.8, 0.8, 1.1, 0.7, 1.4, 2.4, 1.5,\n",
    "       0.6, 0.3, 1.1, 1.1, 1.1, 1.1, 0.6, 1.3, 0.9, 1.6, 1.1, 1.3, 1.4,\n",
    "       1.9, 1.3, 2.5, 1.9, 0.9, 0.9, 0.9, 1.2, 1.1, 0.7, 1.2, 1.2, 1.5,\n",
    "       1.2, 1.3, 1.3, 0.9, 0.8, 1. , 1.7, 1.1, 2.3, 0.7, 1.2, 0.9, 1.3,\n",
    "       1. , 0.6, 3.6, 1.3, 0.9, 0.9, 1.1, 1.2, 1.9, 0.3, 1.1, 1.2, 1.7,\n",
    "       1.6, 2.3, 0.6, 1.6, 1.2, 1.6, 0.9, 0.8, 1.9, 1.4, 0.7, 0.5, 1. ,\n",
    "       1.2, 0.8, 1.8, 1.1, 0.9, 0.8, 1.4, 1. , 1.4, 0.8, 2.2, 1.8, 0.9,\n",
    "       1. , 0.7, 1.1, 1. , 1.1, 1.6, 1.3, 1.3, 3.1, 1. , 0.5, 1.1, 1.2,\n",
    "       1.1, 1.8, 1.5, 2.1, 1.6, 1. , 1.8, 1.3, 1.5, 1.2, 0.8, 1.1, 1. ,\n",
    "       1.1, 0.8, 0.5, 0.7, 1.1, 1.1, 1.7, 1.1, 1.5, 1.2, 2.9, 1.2, 0.7,\n",
    "       1.3, 1.8, 1.1, 1.2, 1.4, 1. , 1.3, 1.5, 1. , 0.9, 0.8, 0.8, 1.5,\n",
    "       0.6, 0.9, 1. , 1.4, 1.4, 1.7, 2.4, 1.6, 1.4, 1.8, 0.9, 1.2, 0.9,\n",
    "       1. , 1. , 0.8, 0.9, 1.3, 1.1, 1.1, 1. , 0.7, 1.8, 1. , 1.6, 1. ,\n",
    "       1.5, 1.6, 0.9, 0.8, 1.5, 0.9, 1. , 0.6, 1.5, 1.2, 0.3, 1.4, 1.4,\n",
    "       1.1, 1.2, 1.4, 1.6, 1. , 0.7, 1.9, 1.2, 1.4, 1.3, 0.9, 1.1, 0.8,\n",
    "       0.4, 2.2, 1.6, 1.9, 1.3, 1.2, 2.5, 1.1, 1.4, 2.7, 0.8, 1.3, 0.9,\n",
    "       0.8, 1.1, 1.1, 1.6, 0.9, 0.7, 2.2, 2. , 2. , 0.6, 1.6, 1.6, 0.6,\n",
    "       1.2, 2.5, 2. , 0.8, 0.9, 2.3, 1.5, 0.9, 0.4, 1. , 0.6, 1.3, 1.9,\n",
    "       0.7, 1.1, 1.4, 1.6, 1.2, 1.2, 0.5, 1.7, 1.5, 1.3, 1.4, 1.5, 1.2,\n",
    "       1.3, 1.2, 0.8, 0.9, 0.8, 0.6, 1.1, 1.1, 1.3, 1.5, 1.1, 1. , 1.7,\n",
    "       0.6, 1.2, 0.7, 1.1, 1.5, 0.7, 1. , 0.9, 1.5, 1.1, 1.4, 1.6, 1.5,\n",
    "       1.6]\n",
    "\n",
    "my_a_value = my_estimator.calculate(my_magnitudes, 1.0, 0.1)\n",
    "my_apositive_value = my_apositive_estimator.calculate(my_magnitudes, 1.0, 0.1)\n",
    "my_amorepositive_value = my_amorepositive_estimator.calculate(my_magnitudes, 1.0, 0.1)\n",
    "\n",
    "my_b_value = my_bclassic_estimator.calculate(my_magnitudes, 1.0, 0.1)\n",
    "my_bmorepositive_value = my_bmorepositive_estimator.calculate(my_magnitudes, 1.0, 0.1)\n",
    "my_bpositive_value = my_bpositive_estimator.calculate(my_magnitudes, 1.0, 0.1)\n",
    "my_utsu_value = my_utsu_estimator.calculate(my_magnitudes, 1.0, 0.1)\n",
    "\n",
    "print(my_a_value, my_b_value, my_bmorepositive_value, my_bpositive_value, my_utsu_value)"
   ]
  },
  {
   "cell_type": "code",
   "execution_count": 3,
   "metadata": {},
   "outputs": [
    {
     "name": "stdout",
     "output_type": "stream",
     "text": [
      "0.37157318798757555 0.3119877038975013 0.4238327865393068\n"
     ]
    }
   ],
   "source": [
    "estimator = BPositiveBValueEstimator(mc=2.0, delta_m=0.1)\n",
    "bmp_estimator = BMorePositiveBValueEstimator(mc=2.0, delta_m=0.1)\n",
    "utsu_estimator = UtsuBValueEstimator(mc=2.0, delta_m=0.1)\n",
    "mags = np.array([2.0, 2.1, 2.1, 4.0, 5.0, 6.0, 2.0, 2.0])\n",
    "weights = np.array([1, 1, 1, 2, 0.9, 0.2, 1, 0.8])\n",
    "b_estimate = estimator(mags, weights=weights)\n",
    "bmp_estimate = bmp_estimator(mags, weights=weights)\n",
    "utsu_estimate = utsu_estimator(mags, weights=weights)\n",
    "print(b_estimate, bmp_estimate, utsu_estimate)"
   ]
  },
  {
   "cell_type": "code",
   "execution_count": 14,
   "metadata": {},
   "outputs": [
    {
     "data": {
      "text/plain": [
       "0.9026211883417727"
      ]
     },
     "execution_count": 14,
     "metadata": {},
     "output_type": "execute_result"
    }
   ],
   "source": [
    "shi_bolt_confidence(mags, weights=2*np.ones(len(mags)), b=1.0)"
   ]
  },
  {
   "cell_type": "code",
   "execution_count": 6,
   "metadata": {},
   "outputs": [
    {
     "name": "stdout",
     "output_type": "stream",
     "text": [
      "0.3119877038975013 0.06789494811978714\n"
     ]
    },
    {
     "name": "stderr",
     "output_type": "stream",
     "text": [
      "/Users/leila/git_repos/github/SeismoStats/seismostats/analysis/bvalue/base.py:75: UserWarning: Shi and Bolt confidence with weights considers the magnitudes as having length 6.1000000000000005, the sum of relevant weights\n",
      "  warnings.warn(\n"
     ]
    }
   ],
   "source": [
    "estimator = BMorePositiveBValueEstimator(mc=2.0, delta_m=0.1)\n",
    "est = estimator(mags, weights=weights)\n",
    "print(est, estimator.std)"
   ]
  },
  {
   "cell_type": "code",
   "execution_count": 41,
   "metadata": {},
   "outputs": [
    {
     "data": {
      "text/plain": [
       "(1.49284753072777, 1.0944596825019437)"
      ]
     },
     "execution_count": 41,
     "metadata": {},
     "output_type": "execute_result"
    }
   ],
   "source": [
    "np.std(mags), np.sqrt(np.average(np.square(mags - np.average(mags, weights=weights)), weights=weights))"
   ]
  },
  {
   "cell_type": "code",
   "execution_count": 26,
   "metadata": {},
   "outputs": [],
   "source": [
    "weights = np.ones(len(mags))\n",
    "weights_extended = np.concatenate([weights, 0 * weights])\n",
    "mags_extended = np.concatenate([mags, mags + 0.1])\n",
    "\n",
    "est_ext = estimator(mags_extended, weights=weights_extended)\n",
    "est = estimator(mags, weights)"
   ]
  },
  {
   "cell_type": "code",
   "execution_count": 27,
   "metadata": {},
   "outputs": [
    {
     "data": {
      "text/plain": [
       "(0.45757490560675146, 0.45757490560675146)"
      ]
     },
     "execution_count": 27,
     "metadata": {},
     "output_type": "execute_result"
    }
   ],
   "source": [
    "est, est_ext"
   ]
  },
  {
   "cell_type": "code",
   "execution_count": null,
   "metadata": {},
   "outputs": [],
   "source": [
    "import numpy as np\n",
    "from seismostats.analysis.avalue import estimate_a\n",
    "magnitudes = np.array([2.1, 2.3, 2.0, 2.0, 2.1, 2.2, 2.1, 2.3])\n",
    "mc = 2.0\n",
    "delta_m = 0.1\n",
    "m_ref = 3\n",
    "b_value = 1\n",
    "a = estimate_a(magnitudes, mc, delta_m, m_ref, b_value)\n",
    "a"
   ]
  }
 ],
 "metadata": {
  "kernelspec": {
   "display_name": "env",
   "language": "python",
   "name": "python3"
  },
  "language_info": {
   "codemirror_mode": {
    "name": "ipython",
    "version": 3
   },
   "file_extension": ".py",
   "mimetype": "text/x-python",
   "name": "python",
   "nbconvert_exporter": "python",
   "pygments_lexer": "ipython3",
   "version": "3.12.0"
  }
 },
 "nbformat": 4,
 "nbformat_minor": 2
}
