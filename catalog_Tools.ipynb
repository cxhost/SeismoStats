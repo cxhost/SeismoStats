{
 "cells": [
  {
   "cell_type": "markdown",
   "id": "e05f2ba4",
   "metadata": {},
   "source": [
    "# Catalog Tools: How To\n",
    "\n",
    "<div class=\"alert alert-block alert-info\">\n",
    "    \n",
    "#### In this notebook we will show how to:\n",
    "\n",
    "<ol>\n",
    "    <li>Download catalogs</li>\n",
    "    <li>Generate synthetic earthquakes</li>\n",
    "    <li>Bin magnitudes</li>\n",
    "    <li>Calculate b-values</li>\n",
    "</ol>"
   ]
  },
  {
   "cell_type": "markdown",
   "id": "373d755b",
   "metadata": {},
   "source": [
    "## 0. Import general packages and catalog tools\n",
    "<font color=#208de2> In the main package, the analytic tools are available (b-value estimation), while other funcitons as catalog downloads, general functions and plotting are defined as subpackages. </font>"
   ]
  },
  {
   "cell_type": "code",
   "execution_count": 3,
   "id": "0e98ffda",
   "metadata": {},
   "outputs": [],
   "source": [
    "#%matplotlib widget\n",
    "import datetime as dt\n",
    "import numpy as np\n",
    "import matplotlib\n",
    "import matplotlib.pyplot as plt\n",
    "import pandas as pd\n",
    "\n",
    "\n",
    "# catalog tools\n",
    "\n",
    "# analysis\n",
    "from catalog_tools import estimate_beta_elst\n",
    "from catalog_tools import estimate_beta_utsu\n",
    "from catalog_tools import estimate_beta_tinti\n",
    "from catalog_tools import estimate_beta_laplace\n",
    "\n",
    "# download\n",
    "from catalog_tools import download_catalog_sed\n",
    "from catalog_tools import prepare_sed_catalog\n",
    "\n",
    "# plots\n",
    "from catalog_tools import plot_cum_fmd\n",
    "from catalog_tools import plot_fmd\n",
    "\n",
    "# utils\n",
    "from catalog_tools import bin_to_precision\n",
    "from catalog_tools import simulate_magnitudes"
   ]
  },
  {
   "cell_type": "markdown",
   "id": "ab01940e",
   "metadata": {},
   "source": [
    "## 1. Download catalog"
   ]
  },
  {
   "cell_type": "markdown",
   "id": "dc5d3af7",
   "metadata": {},
   "source": [
    "<font color=#208de2> Swiss Catalog. Start date and end date have to be defined as a datetime. </font>"
   ]
  },
  {
   "cell_type": "code",
   "execution_count": 4,
   "id": "2c33dbd2",
   "metadata": {},
   "outputs": [],
   "source": [
    "start_time = pd.to_datetime('2022/01/01')\n",
    "end_time = dt.datetime.now()\n",
    "min_magnitude = 0.5\n",
    "\n",
    "df = download_catalog_sed(start_time=start_time, end_time=end_time, min_magnitude=min_magnitude)\n",
    "df = prepare_sed_catalog(df, convert_to_mw=False)"
   ]
  },
  {
   "cell_type": "markdown",
   "id": "3f62bf93",
   "metadata": {},
   "source": [
    "<font color=#208de2> The output is a dataframe: </font>"
   ]
  },
  {
   "cell_type": "code",
   "execution_count": 5,
   "id": "5bf99c7a",
   "metadata": {
    "scrolled": false
   },
   "outputs": [
    {
     "data": {
      "text/html": [
       "<div>\n",
       "<style scoped>\n",
       "    .dataframe tbody tr th:only-of-type {\n",
       "        vertical-align: middle;\n",
       "    }\n",
       "\n",
       "    .dataframe tbody tr th {\n",
       "        vertical-align: top;\n",
       "    }\n",
       "\n",
       "    .dataframe thead th {\n",
       "        text-align: right;\n",
       "    }\n",
       "</style>\n",
       "<table border=\"1\" class=\"dataframe\">\n",
       "  <thead>\n",
       "    <tr style=\"text-align: right;\">\n",
       "      <th></th>\n",
       "      <th>#EventID</th>\n",
       "      <th>time</th>\n",
       "      <th>latitude</th>\n",
       "      <th>longitude</th>\n",
       "      <th>depth</th>\n",
       "      <th>Author</th>\n",
       "      <th>Catalog</th>\n",
       "      <th>Contributor</th>\n",
       "      <th>ContributorID</th>\n",
       "      <th>mag_type</th>\n",
       "      <th>magnitude</th>\n",
       "      <th>MagAuthor</th>\n",
       "      <th>EventLocationName</th>\n",
       "      <th>event_type</th>\n",
       "    </tr>\n",
       "  </thead>\n",
       "  <tbody>\n",
       "    <tr>\n",
       "      <th>6</th>\n",
       "      <td>smi:ch.ethz.sed/sc20a/Event/2023bztene</td>\n",
       "      <td>2023-01-29 04:26:46.302547</td>\n",
       "      <td>46.045869</td>\n",
       "      <td>6.906665</td>\n",
       "      <td>5.2</td>\n",
       "      <td>vsimon@sc20ag</td>\n",
       "      <td>NaN</td>\n",
       "      <td>SED</td>\n",
       "      <td>smi:ch.ethz.sed/sc20a/Event/2023bztene</td>\n",
       "      <td>MLhc</td>\n",
       "      <td>1.0</td>\n",
       "      <td>vsimon@sc20ag</td>\n",
       "      <td>Chamonix F</td>\n",
       "      <td>earthquake</td>\n",
       "    </tr>\n",
       "    <tr>\n",
       "      <th>5</th>\n",
       "      <td>smi:ch.ethz.sed/sc20a/Event/2023cacmgg</td>\n",
       "      <td>2023-01-29 09:07:17.278718</td>\n",
       "      <td>47.168178</td>\n",
       "      <td>9.440325</td>\n",
       "      <td>2.8</td>\n",
       "      <td>vsimon@sc20ag</td>\n",
       "      <td>NaN</td>\n",
       "      <td>SED</td>\n",
       "      <td>smi:ch.ethz.sed/sc20a/Event/2023cacmgg</td>\n",
       "      <td>MLhc</td>\n",
       "      <td>1.0</td>\n",
       "      <td>vsimon@sc20ag</td>\n",
       "      <td>Buchs SG</td>\n",
       "      <td>earthquake</td>\n",
       "    </tr>\n",
       "    <tr>\n",
       "      <th>4</th>\n",
       "      <td>smi:ch.ethz.sed/sc20a/Event/2023ceawhi</td>\n",
       "      <td>2023-01-31 12:36:45.308483</td>\n",
       "      <td>48.281636</td>\n",
       "      <td>7.656022</td>\n",
       "      <td>10.8</td>\n",
       "      <td>vsimon@sc20ag</td>\n",
       "      <td>NaN</td>\n",
       "      <td>SED</td>\n",
       "      <td>smi:ch.ethz.sed/sc20a/Event/2023ceawhi</td>\n",
       "      <td>MLhc</td>\n",
       "      <td>1.7</td>\n",
       "      <td>vsimon@sc20ag</td>\n",
       "      <td>Colmar F</td>\n",
       "      <td>earthquake</td>\n",
       "    </tr>\n",
       "    <tr>\n",
       "      <th>2</th>\n",
       "      <td>smi:ch.ethz.sed/sc20a/Event/2023cerrlm</td>\n",
       "      <td>2023-01-31 21:03:43.636245</td>\n",
       "      <td>45.892226</td>\n",
       "      <td>6.893018</td>\n",
       "      <td>3.0</td>\n",
       "      <td>vsimon@sc20ag</td>\n",
       "      <td>NaN</td>\n",
       "      <td>SED</td>\n",
       "      <td>smi:ch.ethz.sed/sc20a/Event/2023cerrlm</td>\n",
       "      <td>MLhc</td>\n",
       "      <td>0.6</td>\n",
       "      <td>vsimon@sc20ag</td>\n",
       "      <td>Chamonix F</td>\n",
       "      <td>earthquake</td>\n",
       "    </tr>\n",
       "    <tr>\n",
       "      <th>1</th>\n",
       "      <td>smi:ch.ethz.sed/sc20a/Event/2023cgjqje</td>\n",
       "      <td>2023-02-01 19:10:05.755205</td>\n",
       "      <td>47.374415</td>\n",
       "      <td>6.921971</td>\n",
       "      <td>5.6</td>\n",
       "      <td>vsimon@sc20ag</td>\n",
       "      <td>NaN</td>\n",
       "      <td>SED</td>\n",
       "      <td>smi:ch.ethz.sed/sc20a/Event/2023cgjqje</td>\n",
       "      <td>MLhc</td>\n",
       "      <td>1.9</td>\n",
       "      <td>vsimon@sc20ag</td>\n",
       "      <td>Porrentruy JU</td>\n",
       "      <td>earthquake</td>\n",
       "    </tr>\n",
       "  </tbody>\n",
       "</table>\n",
       "</div>"
      ],
      "text/plain": [
       "                                 #EventID                       time  \\\n",
       "6  smi:ch.ethz.sed/sc20a/Event/2023bztene 2023-01-29 04:26:46.302547   \n",
       "5  smi:ch.ethz.sed/sc20a/Event/2023cacmgg 2023-01-29 09:07:17.278718   \n",
       "4  smi:ch.ethz.sed/sc20a/Event/2023ceawhi 2023-01-31 12:36:45.308483   \n",
       "2  smi:ch.ethz.sed/sc20a/Event/2023cerrlm 2023-01-31 21:03:43.636245   \n",
       "1  smi:ch.ethz.sed/sc20a/Event/2023cgjqje 2023-02-01 19:10:05.755205   \n",
       "\n",
       "    latitude  longitude  depth         Author  Catalog Contributor  \\\n",
       "6  46.045869   6.906665    5.2  vsimon@sc20ag      NaN         SED   \n",
       "5  47.168178   9.440325    2.8  vsimon@sc20ag      NaN         SED   \n",
       "4  48.281636   7.656022   10.8  vsimon@sc20ag      NaN         SED   \n",
       "2  45.892226   6.893018    3.0  vsimon@sc20ag      NaN         SED   \n",
       "1  47.374415   6.921971    5.6  vsimon@sc20ag      NaN         SED   \n",
       "\n",
       "                            ContributorID mag_type  magnitude      MagAuthor  \\\n",
       "6  smi:ch.ethz.sed/sc20a/Event/2023bztene     MLhc        1.0  vsimon@sc20ag   \n",
       "5  smi:ch.ethz.sed/sc20a/Event/2023cacmgg     MLhc        1.0  vsimon@sc20ag   \n",
       "4  smi:ch.ethz.sed/sc20a/Event/2023ceawhi     MLhc        1.7  vsimon@sc20ag   \n",
       "2  smi:ch.ethz.sed/sc20a/Event/2023cerrlm     MLhc        0.6  vsimon@sc20ag   \n",
       "1  smi:ch.ethz.sed/sc20a/Event/2023cgjqje     MLhc        1.9  vsimon@sc20ag   \n",
       "\n",
       "  EventLocationName  event_type  \n",
       "6        Chamonix F  earthquake  \n",
       "5          Buchs SG  earthquake  \n",
       "4          Colmar F  earthquake  \n",
       "2        Chamonix F  earthquake  \n",
       "1     Porrentruy JU  earthquake  "
      ]
     },
     "execution_count": 5,
     "metadata": {},
     "output_type": "execute_result"
    }
   ],
   "source": [
    "df.tail()"
   ]
  },
  {
   "cell_type": "markdown",
   "id": "aa0b9f69",
   "metadata": {},
   "source": [
    "<font color=#208de2> We can plot the cumulative frequency-magnitude distribution (FMD): </font>"
   ]
  },
  {
   "cell_type": "code",
   "execution_count": 6,
   "id": "43d65445",
   "metadata": {
    "scrolled": false
   },
   "outputs": [
    {
     "data": {
      "text/plain": [
       "<matplotlib.legend.Legend at 0x131824940>"
      ]
     },
     "execution_count": 6,
     "metadata": {},
     "output_type": "execute_result"
    },
    {
     "data": {
      "image/png": "[encoded data removed]",
      "text/plain": [
       "<Figure size 800x600 with 1 Axes>"
      ]
     },
     "metadata": {},
     "output_type": "display_data"
    }
   ],
   "source": [
    "font = {'size': 10}\n",
    "matplotlib.rc('font', **font)\n",
    "ax = plt.subplots(figsize=(8, 6))[1]\n",
    "plot_cum_fmd(ax, df['magnitude'], color='blue')\n",
    "plot_fmd(ax, df['magnitude'], color='red')\n",
    "\n",
    "ax.legend(['cumulative', 'non cumulative'])"
   ]
  },
  {
   "cell_type": "markdown",
   "id": "357280e1",
   "metadata": {},
   "source": [
    "## 2. Generate synthetic earthquakes\n",
    "<font color=#208de2> First we need to define the number of earthquakes, the b-value and the completeness magnitude. For the b-value, note that beta is defined as the natural logarithm equivalent of the b-value. </font>"
   ]
  },
  {
   "cell_type": "code",
   "execution_count": 166,
   "id": "f2775fba",
   "metadata": {},
   "outputs": [],
   "source": [
    "n = 200\n",
    "b_value = 1\n",
    "beta = b_value*np.log(10)\n",
    "delta_m = 0.1\n",
    "mc = 3\n",
    "mc_generation = mc - delta_m / 2"
   ]
  },
  {
   "cell_type": "markdown",
   "id": "a0285f34",
   "metadata": {},
   "source": [
    "<font color=#208de2> Now we can generate a synthetic magnitude distribution: </font>"
   ]
  },
  {
   "cell_type": "code",
   "execution_count": 167,
   "id": "25f3eb2e",
   "metadata": {},
   "outputs": [],
   "source": [
    "mags = simulate_magnitudes(n,beta,mc_generation)"
   ]
  },
  {
   "cell_type": "markdown",
   "id": "a0920d1b",
   "metadata": {},
   "source": [
    "## 3. Bin magnitudes\n",
    "<font color=#208de2> In order to bin the magnitudes, we just need to define the step-size: </font>"
   ]
  },
  {
   "cell_type": "code",
   "execution_count": 168,
   "id": "8784bb5e",
   "metadata": {},
   "outputs": [],
   "source": [
    "mags_binned = bin_to_precision(mags, delta_m)"
   ]
  },
  {
   "cell_type": "markdown",
   "id": "09f2d067",
   "metadata": {},
   "source": [
    "## 4. Calculate b-values\n",
    "<font color=#208de2> We estimate the b-value from the binned sample. It is important to pass on the information of which binning (if any) is applied. Also, be cautious that beta is (as above) a factor of np.log(10) different to the b-value. </font>"
   ]
  },
  {
   "cell_type": "code",
   "execution_count": 169,
   "id": "64adffda",
   "metadata": {},
   "outputs": [],
   "source": [
    "beta_estimate = estimate_beta_tinti(mags_binned, mc=mc, delta_m=delta_m)\n",
    "# beta_estimate = estimate_beta_utsu(mags_binned,mc=mc, delta_m=delta_m)\n",
    "# beta_estimate = estimate_beta_elst(mags_binned, delta_m=delta_m)\n",
    "# beta_estimate = estimate_beta_laplace(mags_binned, delta_m=delta_m)"
   ]
  },
  {
   "cell_type": "markdown",
   "id": "dfc9800e",
   "metadata": {},
   "source": [
    "<font color=#208de2> We can plot the original and binned magnitudes and their respective b-value estimates now. Note that the data are offset by half the binning size so that the cumulative number is shown correctly. </font>"
   ]
  },
  {
   "cell_type": "code",
   "execution_count": 170,
   "id": "87bd325f",
   "metadata": {
    "scrolled": false
   },
   "outputs": [
    {
     "data": {
      "text/plain": [
       "<matplotlib.legend.Legend at 0x135999990>"
      ]
     },
     "execution_count": 170,
     "metadata": {},
     "output_type": "execute_result"
    },
    {
     "data": {
      "image/png": "[encoded data removed]",
      "text/plain": [
       "<Figure size 800x600 with 1 Axes>"
      ]
     },
     "metadata": {},
     "output_type": "display_data"
    }
   ],
   "source": [
    "font = {'size': 10}\n",
    "matplotlib.rc('font', **font)\n",
    "ax = plt.subplots(figsize=(8, 6))[1]\n",
    "\n",
    "plot_cum_fmd(ax, mags, color='blue', b_value=b_value, mc=mc - delta_m/2)\n",
    "plot_cum_fmd(ax, mags_binned, color='red', b_value=beta_estimate/np.log(10), delta_m=delta_m)\n",
    "\n",
    "ax.legend(['Magnitudes original', 'True b-value', 'binned magnitudes', 'Fit Tinti'])"
   ]
  }
 ],
 "metadata": {
  "kernelspec": {
   "display_name": "Python 3 (ipykernel)",
   "language": "python",
   "name": "python3"
  },
  "language_info": {
   "codemirror_mode": {
    "name": "ipython",
    "version": 3
   },
   "file_extension": ".py",
   "mimetype": "text/x-python",
   "name": "python",
   "nbconvert_exporter": "python",
   "pygments_lexer": "ipython3",
   "version": "3.10.8"
  }
 },
 "nbformat": 4,
 "nbformat_minor": 5
}
