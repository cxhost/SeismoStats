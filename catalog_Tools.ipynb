{
 "cells": [
  {
   "cell_type": "markdown",
   "id": "e05f2ba4",
   "metadata": {},
   "source": [
    "# Catalog Tools: How To\n",
    "<div class=\"alert alert-block alert-info\">\n",
    "\n",
    "#### In this notebook we will show how to:\n",
    "\n",
    "<ol>\n",
    "    <li>Download catalogs</li>\n",
    "    <li>Plot the seismicity</li>\n",
    "    <li>Generate synthetic earthquakes</li>\n",
    "    <li>Bin magnitudes</li>\n",
    "    <li>Calculate b-values</li> \n",
    "</ol>\n",
    "\n",
    "</div>"
   ]
  },
  {
   "cell_type": "markdown",
   "id": "373d755b",
   "metadata": {},
   "source": [
    "## 0. Import general packages"
   ]
  },
  {
   "cell_type": "code",
   "execution_count": 1,
   "id": "0e98ffda",
   "metadata": {},
   "outputs": [],
   "source": [
    "#%matplotlib widget\n",
    "import datetime as dt\n",
    "import numpy as np\n",
    "import matplotlib\n",
    "import matplotlib.pyplot as plt\n",
    "import pandas as pd"
   ]
  },
  {
   "cell_type": "markdown",
   "id": "ab01940e",
   "metadata": {},
   "source": [
    "## 1. Download catalog\n",
    "<div class=\"alert alert-block alert-warning\">\n",
    "<font color=#208de2>     \n",
    "\n",
    "We currently have capability to do a customized download for (includes converting to the catalog-tools standard format):\n",
    "<ol>\n",
    "    <li>SCEDC (southern California)</li>\n",
    "    <li>SED (Switzerland)</li>\n",
    "</ol>\n",
    "\n",
    "Otherwise, we have a general download function, where the client name has to be specified (e.g. EMSC). Depending on the source, the catalog has to be further converted in order to be able to use the plotting functions."
   ]
  },
  {
   "cell_type": "markdown",
   "id": "fe3202b4",
   "metadata": {},
   "source": [
    "<div class=\"alert alert-block alert-warning\">\n",
    "<font color=#208de2>     \n",
    "The 'c-t standard format' is a dataframe with the following collumns (additional collumns are not a problem):\n",
    "    \n",
    "|column header |type | importance|\n",
    "|:-|:-|:-|\n",
    "|latitude |float |required|\n",
    "|longitude |float |required|\n",
    "|depth| float| required|\n",
    "|mag_type| string| optional|\n",
    "|magnitude| float| required| \n",
    "|time| pandas timestamp| required|\n",
    "|event_type| string| optional|\n",
    "</font>\n",
    "</div>"
   ]
  },
  {
   "cell_type": "markdown",
   "id": "9613cb8a",
   "metadata": {},
   "source": [
    "### 1.1. SED Catalog"
   ]
  },
  {
   "cell_type": "code",
   "execution_count": 2,
   "id": "8ce71245",
   "metadata": {},
   "outputs": [],
   "source": [
    "from catalog_tools import download_catalog_sed"
   ]
  },
  {
   "cell_type": "markdown",
   "id": "dc5d3af7",
   "metadata": {},
   "source": [
    "<font color=#208de2> Start date and end date have to be defined as a datetime. In case something does not work out, the link to retrieve it manually is given back. </font>"
   ]
  },
  {
   "cell_type": "code",
   "execution_count": 3,
   "id": "922bb4a9",
   "metadata": {},
   "outputs": [],
   "source": [
    "start_time = pd.to_datetime('2020/01/01')\n",
    "end_time = pd.to_datetime('2022/01/01')\n",
    "\n",
    "min_longitude = 5\n",
    "max_longitude = 11\n",
    "min_latitude = 45\n",
    "max_latitude = 48\n",
    "\n",
    "min_magnitude = 2\n",
    "\n",
    "df_sed = download_catalog_sed(\n",
    "    start_time=start_time,\n",
    "    end_time=end_time,\n",
    "    min_magnitude=min_magnitude,\n",
    "    min_longitude=min_longitude,\n",
    "    max_longitude=max_longitude,\n",
    "    min_latitude=min_latitude,\n",
    "    max_latitude=max_latitude)"
   ]
  },
  {
   "cell_type": "markdown",
   "id": "3f62bf93",
   "metadata": {},
   "source": [
    "<font color=#208de2> The output is a dataframe:</font>"
   ]
  },
  {
   "cell_type": "code",
   "execution_count": 4,
   "id": "5bf99c7a",
   "metadata": {
    "scrolled": false
   },
   "outputs": [],
   "source": [
    "df_sed.tail()"
   ]
  },
  {
   "cell_type": "markdown",
   "id": "df055b99",
   "metadata": {},
   "source": [
    "### 1.2. SCEDC Catalog"
   ]
  },
  {
   "cell_type": "code",
   "execution_count": 5,
   "id": "2827052b",
   "metadata": {},
   "outputs": [],
   "source": [
    "from catalog_tools import download_catalog_scedc"
   ]
  },
  {
   "cell_type": "code",
   "execution_count": 6,
   "id": "eb58c081",
   "metadata": {},
   "outputs": [],
   "source": [
    "start_time = pd.to_datetime('2020/01/01')\n",
    "end_time = dt.datetime.now()\n",
    "\n",
    "\n",
    "min_longitude = -124\n",
    "max_longitude = -80\n",
    "min_latitude = 10\n",
    "max_latitude = 35\n",
    "\n",
    "min_magnitude = 4\n",
    "\n",
    "df_scedc = download_catalog_scedc(\n",
    "    start_time=start_time,\n",
    "    end_time=end_time,\n",
    "    min_magnitude=min_magnitude,\n",
    "    min_longitude=min_longitude,\n",
    "    max_longitude=max_longitude,\n",
    "    min_latitude=min_latitude,\n",
    "    max_latitude=max_latitude\n",
    ")"
   ]
  },
  {
   "cell_type": "code",
   "execution_count": 7,
   "id": "7138f04a",
   "metadata": {},
   "outputs": [],
   "source": [
    "df_scedc"
   ]
  },
  {
   "cell_type": "markdown",
   "id": "ee47cbf6",
   "metadata": {},
   "source": [
    "### 1.3. General Catalog download function"
   ]
  },
  {
   "cell_type": "code",
   "execution_count": 8,
   "id": "067cdd27",
   "metadata": {},
   "outputs": [],
   "source": [
    "from catalog_tools import download_catalog"
   ]
  },
  {
   "cell_type": "code",
   "execution_count": 9,
   "id": "bcf8c001",
   "metadata": {},
   "outputs": [],
   "source": [
    "start_time = pd.to_datetime('2023/01/01')\n",
    "end_time = dt.datetime.now()\n",
    "\n",
    "min_magnitude = 5\n",
    "\n",
    "df = download_catalog(client_name='IRIS',\n",
    "        start_time=start_time,\n",
    "        end_time=end_time,\n",
    "        min_magnitude=min_magnitude,\n",
    ")"
   ]
  },
  {
   "cell_type": "markdown",
   "id": "2993a197",
   "metadata": {},
   "source": [
    "## 2. Seismicity Plots\n",
    "\n",
    "<div class=\"alert alert-block alert-warning\">\n",
    "<font color=#208de2>     \n",
    "We plot the seismicity in time and space, and the cumulative frequency-magnitude distribution. There are three kind of plotting families:\n",
    "\n",
    "<ol>\n",
    "<li>Plot in space</li>\n",
    "<li>Plot magnitude distribution</li>\n",
    "<li>Plot in time</li> \n",
    "</ol>\n",
    "\n",
    "</font>\n",
    "</div>"
   ]
  },
  {
   "cell_type": "markdown",
   "id": "7fa86a08",
   "metadata": {},
   "source": [
    "### 2.1. Plot in space"
   ]
  },
  {
   "cell_type": "code",
   "execution_count": 10,
   "id": "7d787190",
   "metadata": {},
   "outputs": [],
   "source": [
    "from catalog_tools import plot_in_space"
   ]
  },
  {
   "cell_type": "markdown",
   "id": "8fae5b27",
   "metadata": {},
   "source": [
    "<font color=#208de2>\n",
    "It is possible to choose the resolutions 10, 50 and 110. Optionally you can choose the color scheme and the country of which you want to see the borders. For large areas/countries, the plotting can take some time (to be fixed in the future).\n",
    "</font>\n"
   ]
  },
  {
   "cell_type": "code",
   "execution_count": 11,
   "id": "a8383b3e",
   "metadata": {},
   "outputs": [],
   "source": [
    "fig = plt.figure(figsize=(10, 10), linewidth=1)    \n",
    "ax = plot_in_space(df_sed, resolution='50m', include_map=True, country='Switzerland', colors='Greys_r')"
   ]
  },
  {
   "cell_type": "markdown",
   "id": "d7d2a30a",
   "metadata": {},
   "source": [
    "<font color=#208de2>\n",
    "You can also choose the interpolation power and the size of the smallest and largest dot. \n",
    "</font>\n"
   ]
  },
  {
   "cell_type": "code",
   "execution_count": 12,
   "id": "3e83885d",
   "metadata": {},
   "outputs": [],
   "source": [
    "fig = plt.figure(figsize=(10, 10), linewidth=1)    \n",
    "ax = plot_in_space(df_scedc, resolution='110m', include_map=True, country='Mexico', dot_smallest=1, dot_largest=500,\n",
    "                   dot_interpolation_power=3)"
   ]
  },
  {
   "cell_type": "markdown",
   "id": "34d0f928",
   "metadata": {},
   "source": [
    "<font color=#208de2>\n",
    "The default is that the map is not included. For now, this is the best way to plot global seismicity.\n",
    "</font>"
   ]
  },
  {
   "cell_type": "code",
   "execution_count": 13,
   "id": "cd01ce40",
   "metadata": {},
   "outputs": [],
   "source": [
    "fig = plt.figure(figsize=(10, 10), linewidth=1)    \n",
    "ax = plot_in_space(df, dot_smallest=0.1, dot_largest=10, dot_interpolation_power=0)"
   ]
  },
  {
   "cell_type": "markdown",
   "id": "3e7d1d41",
   "metadata": {},
   "source": [
    "### 2.2. Plot magnitude distributions"
   ]
  },
  {
   "cell_type": "code",
   "execution_count": 14,
   "id": "22d06c50",
   "metadata": {},
   "outputs": [],
   "source": [
    "from catalog_tools import plot_cum_fmd, plot_fmd"
   ]
  },
  {
   "cell_type": "code",
   "execution_count": 15,
   "id": "44f539a5",
   "metadata": {},
   "outputs": [],
   "source": [
    "ax = plt.subplots(figsize=(8, 6))[1]\n",
    "\n",
    "plot_cum_fmd(df['magnitude'], ax=ax, color='blue')\n",
    "plot_fmd(df['magnitude'], ax=ax, color='red', size=6, grid=True)\n",
    "\n",
    "ax.legend(['cumulative', 'non cumulative'])"
   ]
  },
  {
   "cell_type": "markdown",
   "id": "485aca69",
   "metadata": {},
   "source": [
    "### 2.3. Plot in time"
   ]
  },
  {
   "cell_type": "code",
   "execution_count": 16,
   "id": "fba75c3f",
   "metadata": {},
   "outputs": [],
   "source": [
    "from catalog_tools import plot_cum_count, plot_mags_in_time"
   ]
  },
  {
   "cell_type": "code",
   "execution_count": 17,
   "id": "1e6d7ad7",
   "metadata": {},
   "outputs": [],
   "source": [
    "ax = plot_cum_count(df_sed, mcs=np.arange(0.5, 4.0, 1), delta_m=0.1)"
   ]
  },
  {
   "cell_type": "code",
   "execution_count": 18,
   "id": "032ec848",
   "metadata": {},
   "outputs": [],
   "source": [
    "ax = plot_mags_in_time(df_sed)"
   ]
  },
  {
   "cell_type": "markdown",
   "id": "357280e1",
   "metadata": {},
   "source": [
    "## 3. Generate and bin synthetic earthquakes\n",
    "\n",
    "<div class=\"alert alert-block alert-warning\">\n",
    "<font color=#208de2>     \n",
    "First we need to define the number of earthquakes, the b-value and the completeness magnitude. If binnning is applied, it is important to generate the magnitudes half a bin smaller than the smallest magnitude, otherwise the first bin will contain only half the events. For the b-value, note that beta is defined as the natural logarithm equivalent of the b-value.\n",
    "</font>\n",
    "</div>"
   ]
  },
  {
   "cell_type": "code",
   "execution_count": 19,
   "id": "7381183b",
   "metadata": {},
   "outputs": [],
   "source": [
    "from catalog_tools import simulate_magnitudes, bin_to_precision"
   ]
  },
  {
   "cell_type": "code",
   "execution_count": 20,
   "id": "f2775fba",
   "metadata": {},
   "outputs": [],
   "source": [
    "n = 200\n",
    "b_value = 1\n",
    "beta = b_value*np.log(10)\n",
    "delta_m = 0.1\n",
    "mc = 3\n",
    "mc_generation = mc - delta_m / 2"
   ]
  },
  {
   "cell_type": "markdown",
   "id": "a0285f34",
   "metadata": {},
   "source": [
    "<font color=#208de2> Now we can generate a synthetic magnitude distribution: </font>"
   ]
  },
  {
   "cell_type": "code",
   "execution_count": 21,
   "id": "25f3eb2e",
   "metadata": {},
   "outputs": [],
   "source": [
    "mags = simulate_magnitudes(n,beta,mc_generation)"
   ]
  },
  {
   "cell_type": "markdown",
   "id": "a0920d1b",
   "metadata": {},
   "source": [
    "<font color=#208de2> In order to bin the magnitudes, we just need to define the step-size: </font>"
   ]
  },
  {
   "cell_type": "code",
   "execution_count": 22,
   "id": "8784bb5e",
   "metadata": {},
   "outputs": [],
   "source": [
    "mags_binned = bin_to_precision(mags, delta_m)"
   ]
  },
  {
   "cell_type": "markdown",
   "id": "09f2d067",
   "metadata": {},
   "source": [
    "## 4. Calculate b-values\n",
    "\n",
    "<div class=\"alert alert-block alert-warning\">\n",
    "<font color=#208de2>     \n",
    "We estimate the b-value from the binned sample. It is important to pass on the information of which binning (if any) is applied. Also, be cautious that beta is (as above) a factor of np.log(10) different to the b-value.\n",
    "</font>\n",
    "</div>"
   ]
  },
  {
   "cell_type": "code",
   "execution_count": 23,
   "id": "63d5cffb",
   "metadata": {},
   "outputs": [],
   "source": [
    "from catalog_tools import estimate_beta_elst, estimate_beta_utsu, estimate_beta_tinti, estimate_beta_laplace\n",
    "\n",
    "# Other b-value estimation methods:\n",
    "# from catalog_tools import estimate_beta_elst, estimate_beta_tinti, estimate_beta_laplace"
   ]
  },
  {
   "cell_type": "code",
   "execution_count": 24,
   "id": "64adffda",
   "metadata": {},
   "outputs": [],
   "source": [
    "beta_estimate = estimate_beta_tinti(mags_binned, mc=mc, delta_m=delta_m)\n",
    "# beta_estimate = estimate_beta_utsu(mags_binned,mc=mc, delta_m=delta_m)\n",
    "# beta_estimate = estimate_beta_elst(mags_binned, delta_m=delta_m)\n",
    "# beta_estimate = estimate_beta_laplace(mags_binned, delta_m=delta_m)"
   ]
  },
  {
   "cell_type": "markdown",
   "id": "dfc9800e",
   "metadata": {},
   "source": [
    "<font color=#208de2> We can plot the original and binned magnitudes and their respective b-value estimates now. Note that the data are offset by half the binning size so that the cumulative number is shown correctly. </font>"
   ]
  },
  {
   "cell_type": "code",
   "execution_count": 25,
   "id": "87bd325f",
   "metadata": {
    "scrolled": false
   },
   "outputs": [],
   "source": [
    "ax = plt.subplots(figsize=(8, 6))[1]\n",
    "\n",
    "plot_cum_fmd(mags, ax=ax, b_value=b_value, mc=mc - delta_m/2, color=['blue', 'darkblue'])\n",
    "plot_cum_fmd(mags_binned,ax=ax, b_value=beta_estimate/np.log(10), delta_m=delta_m, color=['red', 'pink'])\n",
    "\n",
    "ax.legend(['True b-value', 'Magnitudes original', 'Fit Tinti', 'Magnitudes binned'])"
   ]
  }
 ],
 "metadata": {
  "kernelspec": {
   "display_name": "Python 3 (ipykernel)",
   "language": "python",
   "name": "python3"
  },
  "language_info": {
   "codemirror_mode": {
    "name": "ipython",
    "version": 3
   },
   "file_extension": ".py",
   "mimetype": "text/x-python",
   "name": "python",
   "nbconvert_exporter": "python",
   "pygments_lexer": "ipython3",
   "version": "3.11.4"
  }
 },
 "nbformat": 4,
 "nbformat_minor": 5
}
